{
 "cells": [
  {
   "cell_type": "markdown",
   "metadata": {},
   "source": [
    "# Classification through Linear Regression/Logistic Regression using Gradient Descent\n",
    "\n",
    "This notebook illustrates how to use linear regression and logistic regression AI algorithms to perform binary classification of digit images using different versions of gradient descent optimizers.\n"
   ]
  },
  {
   "cell_type": "code",
   "execution_count": 96,
   "metadata": {},
   "outputs": [],
   "source": [
    "import numpy as np\n",
    "import math\n",
    "import matplotlib.pyplot as plt\n",
    "import sklearn.datasets as dt\n",
    "from sklearn.model_selection import train_test_split\n",
    "import pandas as pd\n",
    "%matplotlib inline"
   ]
  },
  {
   "cell_type": "markdown",
   "metadata": {},
   "source": [
    "# Dataset\n",
    "To illustrate gradient descent on a classification problem, we have chosen the \"digits\" dataset included in `sklearn.datasets`. "
   ]
  },
  {
   "cell_type": "markdown",
   "metadata": {},
   "source": [
    "## Plotting data"
   ]
  },
  {
   "cell_type": "code",
   "execution_count": 97,
   "metadata": {},
   "outputs": [
    {
     "data": {
      "image/png": "[encoded data removed]",
      "text/plain": [
       "<Figure size 1200x400 with 10 Axes>"
      ]
     },
     "metadata": {},
     "output_type": "display_data"
    }
   ],
   "source": [
    "digits, target = dt.load_digits(n_class = 2,return_X_y= True)\n",
    "fig, ax = plt.subplots(nrows=1, ncols=10,figsize=(12,4),subplot_kw=dict(xticks=[], yticks=[]))\n",
    "\n",
    "# Plot some images of digits\n",
    "for i in np.arange(10):\n",
    "    ax[i].imshow(digits[i,:].reshape(8,8),cmap=plt.cm.gray)   \n",
    "plt.show()\n"
   ]
  },
  {
   "cell_type": "markdown",
   "metadata": {},
   "source": [
    "## Prepare Data"
   ]
  },
  {
   "cell_type": "code",
   "execution_count": 98,
   "metadata": {},
   "outputs": [
    {
     "name": "stdout",
     "output_type": "stream",
     "text": [
      "[0 0 0 0 0 1 0 1 0 0]\n",
      "[-1. -1. -1. -1. -1.  1. -1.  1. -1. -1.]\n",
      "(288, 64)\n",
      "(288,)\n",
      "(72, 64)\n",
      "(72,)\n"
     ]
    }
   ],
   "source": [
    "# Split into train and test set\n",
    "X_train, X_test, y_train, y_test = train_test_split(digits, target, test_size=0.2, random_state=42)\n",
    "\n",
    "print(y_train[:10])\n",
    "y_train = np.sign(y_train - 0.5)\n",
    "print(y_train[:10])\n",
    "y_test = np.sign(y_test - 0.5)\n",
    "print(X_train.shape)\n",
    "print(y_train.shape)\n",
    "print(X_test.shape)\n",
    "print(y_test.shape)"
   ]
  },
  {
   "cell_type": "markdown",
   "metadata": {},
   "source": [
    "# Problem 1"
   ]
  },
  {
   "cell_type": "code",
   "execution_count": 99,
   "metadata": {},
   "outputs": [],
   "source": [
    "## a. Linear Regression with Gradient Descent\n",
    "\n",
    "class LinearRegressionGradientDescent():\n",
    "    \"\"\"\n",
    "    Logistic regression implementation (gradient descent)\n",
    "    \"\"\"\n",
    "\n",
    "    def __init__(self, d, w = None):\n",
    "        # set the dimension of the input data\n",
    "        self.d = d\n",
    "        # initialize the weights if necessary\n",
    "        if w is None:\n",
    "            self.w = np.random.rand((d + 1))\n",
    "        else:\n",
    "            assert len(w) == (d+1), f'Weight vector has length {len(w)}, but dimension was set to {d} + 1'\n",
    "            self.w = w\n",
    "\n",
    "    def MSE(self, X, y):\n",
    "        # get the number of data points\n",
    "        N = X.shape[0]\n",
    "        return (1/(2*N)) * (np.sum((self.h(X) - y)**2))\n",
    "    \n",
    "    def MSE_gradient(self, X, y):\n",
    "        # get the number of data points\n",
    "        N = X.shape[0]\n",
    "        h = self.h(X)\n",
    "\n",
    "        # prepend a column of ones, \n",
    "        # we do not do it before computing h, since we do that in h() as well\n",
    "        ones = np.ones((X.shape[0], 1))\n",
    "        X = np.concatenate((ones, X), axis=1)\n",
    "        # compute the gradient\n",
    "        delta = (1/N) * ((h - y).T.dot(X)) * 2 \n",
    "\n",
    "        return delta\n",
    "\n",
    "    def fit(self, X, y, eta=0.01, epochs=5):\n",
    "        \"\"\"\n",
    "        Parameters\n",
    "        ----------\n",
    "        X : Array of shape [n_samples, n_features]\n",
    "        y : Array of shape [n_samples, 1]\n",
    "        \"\"\"\n",
    "\n",
    "        deltas = []\n",
    "        errros = []\n",
    "        accuracies = []\n",
    "\n",
    "        # gradient descent steps\n",
    "        for epoch in range(epochs):\n",
    "            # get the gradient\n",
    "            delta = self.MSE_gradient(X, y)\n",
    "\n",
    "            self.w = self.w - (eta * delta.T)\n",
    "\n",
    "            deltas.append(float(np.mean(delta)))\n",
    "            errros.append(self.MSE(X, y))\n",
    "            accuracies.append(self.accuracy(X, y))\n",
    "\n",
    "        return errros, deltas, accuracies\n",
    "\n",
    "        \n",
    "    # prediction\n",
    "    def h(self, X):\n",
    "        # prepend a column of ones\n",
    "        ones = np.ones((X.shape[0], 1))\n",
    "        X = np.concatenate((ones, X), axis=1)\n",
    "        y_hat = np.sign(X @ self.w)\n",
    "        return y_hat\n",
    "    \n",
    "    \n",
    "    def accuracy(self, X, y):\n",
    "        y_hat = self.h(X)\n",
    "        percentage = np.mean(y_hat == y)\n",
    "        return percentage\n",
    "\n",
    "\n"
   ]
  },
  {
   "cell_type": "code",
   "execution_count": 100,
   "metadata": {},
   "outputs": [
    {
     "name": "stdout",
     "output_type": "stream",
     "text": [
      "Final test accuracy: 0.5138888888888888\n"
     ]
    }
   ],
   "source": [
    "lr = LinearRegressionGradientDescent(X_train.shape[1])\n",
    "errros, deltas, accuracies = lr.fit(X_train, y_train, eta=0.001, epochs=5)\n",
    "\n",
    "test_accuracy = lr.accuracy(X_test, y_test)\n",
    "print(f'Final test accuracy: {test_accuracy}')"
   ]
  },
  {
   "cell_type": "code",
   "execution_count": 101,
   "metadata": {},
   "outputs": [
    {
     "data": {
      "text/plain": [
       "<matplotlib.legend.Legend at 0x282ec10be50>"
      ]
     },
     "execution_count": 101,
     "metadata": {},
     "output_type": "execute_result"
    },
    {
     "data": {
      "image/png": "[encoded data removed]",
      "text/plain": [
       "<Figure size 640x480 with 1 Axes>"
      ]
     },
     "metadata": {},
     "output_type": "display_data"
    }
   ],
   "source": [
    "plt.plot(deltas)\n",
    "plt.plot(errros)\n",
    "plt.plot(accuracies)\n",
    "\n",
    "plt.grid(True)\n",
    "\n",
    "plt.legend([\n",
    "    \"deltas\",\n",
    "    \"errors\",\n",
    "    \"accuracy\"\n",
    "])"
   ]
  },
  {
   "cell_type": "markdown",
   "metadata": {},
   "source": [
    "## Linear Regression with mini-batch Gradient Descent"
   ]
  },
  {
   "cell_type": "code",
   "execution_count": 102,
   "metadata": {},
   "outputs": [],
   "source": [
    "class LinearRegressionGradientDescentMiniBatch():\n",
    "    \"\"\"\n",
    "    Logistic regression implementation (gradient descent)\n",
    "    \"\"\"\n",
    "\n",
    "    def __init__(self, d, w = None):\n",
    "        # set the dimension of the input data\n",
    "        self.d = d\n",
    "        # initialize the weights if necessary\n",
    "        if w is None:\n",
    "            self.w = np.random.rand((d + 1))\n",
    "        else:\n",
    "            self.w = w\n",
    "\n",
    "    def MSE(self, X, y):\n",
    "        # get the number of data points\n",
    "        N = X.shape[0]\n",
    "        return (1/(2*N)) * (np.sum((self.h(X) - y)**2))\n",
    "    \n",
    "    def MSE_gradient(self, X, y):\n",
    "        # get the number of data points\n",
    "        N = X.shape[0]\n",
    "        h = self.h(X)\n",
    "\n",
    "        # prepend a column of ones, \n",
    "        # we do not do it before computing h, since we do that in h() as well\n",
    "        ones = np.ones((X.shape[0], 1))\n",
    "        X = np.concatenate((ones, X), axis=1)\n",
    "        # compute the gradient\n",
    "        delta = (1/N) * ((h - y).T.dot(X))\n",
    "\n",
    "        return delta\n",
    "\n",
    "    def fit(self, X, y, eta=0.01, epochs=5, batch_size = 4):\n",
    "        \"\"\"\n",
    "        Parameters\n",
    "        ----------\n",
    "        X : Array of shape [n_samples, n_features]\n",
    "        y : Array of shape [n_samples, 1]\n",
    "        \"\"\"\n",
    "\n",
    "        deltas = []\n",
    "        errros = []\n",
    "        accuracies = []\n",
    "\n",
    "        # gradient descent steps\n",
    "        for epoch in range(epochs):\n",
    "            # get the gradient\n",
    "            mini_batches = self.create_mini_batches(X, y, batch_size)\n",
    "\n",
    "            mini_deltas = []\n",
    "\n",
    "            for mini_batch in mini_batches:\n",
    "                X_mini, y_mini = mini_batch\n",
    "\n",
    "                delta = self.MSE_gradient(X_mini, y_mini)\n",
    "                mini_deltas.append(float(np.mean(delta)))\n",
    "\n",
    "                self.w = self.w - (eta * delta.T)\n",
    "\n",
    "            deltas.append(float(np.mean(mini_deltas)))\n",
    "            errros.append(self.MSE(X, y))\n",
    "            accuracies.append(self.accuracy(X, y))\n",
    "\n",
    "        return errros, deltas, accuracies\n",
    "\n",
    "    def create_mini_batches(self, X, y, batch_size):\n",
    "        mini_batches = []\n",
    "\n",
    "        # create a random permutation of the data\n",
    "        permutation =  np.random.permutation(X.shape[0])\n",
    "        X_perm = X[permutation]\n",
    "        y_perm = y[permutation]\n",
    "\n",
    "        n_minibatches = X.shape[0] // batch_size\n",
    "        # make sure that we get the last training instances if the data set\n",
    "        # is not evenly divisible by the batch size\n",
    "        if X.shape[0] % batch_size != 0:\n",
    "            n_minibatches += 1\n",
    "\n",
    "\n",
    "        for i in range(n_minibatches):\n",
    "            lower = i * batch_size\n",
    "            lower = min(lower, X.shape[0])\n",
    "            upper = i * batch_size + batch_size\n",
    "            upper = min(upper, X.shape[0])\n",
    "\n",
    "            X_mini = X_perm[lower:upper, ]\n",
    "            y_mini = y_perm[lower:upper]\n",
    "\n",
    "            mini_batches.append((X_mini, y_mini))\n",
    "\n",
    "        return mini_batches\n",
    "\n",
    "\n",
    "    def accuracy(self, X, y):\n",
    "        y_hat = self.h(X)\n",
    "        percentage = np.mean(y_hat == y)\n",
    "        return percentage\n",
    "\n",
    "        \n",
    "    # prediction\n",
    "    def h(self, X):\n",
    "        # prepend a column of ones\n",
    "        ones = np.ones((X.shape[0], 1))\n",
    "        X = np.concatenate((ones, X), axis=1)\n",
    "        y_hat = np.sign(X @ self.w)\n",
    "        return y_hat\n"
   ]
  },
  {
   "cell_type": "code",
   "execution_count": 103,
   "metadata": {},
   "outputs": [
    {
     "name": "stdout",
     "output_type": "stream",
     "text": [
      "Final test accuracy: 1.0\n"
     ]
    }
   ],
   "source": [
    "lr = LinearRegressionGradientDescentMiniBatch(X_train.shape[1])\n",
    "errros, deltas, accuracies = lr.fit(X_train, y_train, eta=0.001, epochs=1, batch_size=1)\n",
    "\n",
    "test_accuracy = lr.accuracy(X_test, y_test)\n",
    "print(f'Final test accuracy: {test_accuracy}')"
   ]
  },
  {
   "cell_type": "code",
   "execution_count": 106,
   "metadata": {},
   "outputs": [
    {
     "data": {
      "text/plain": [
       "<matplotlib.legend.Legend at 0x282ec21d960>"
      ]
     },
     "execution_count": 106,
     "metadata": {},
     "output_type": "execute_result"
    },
    {
     "data": {
      "image/png": "[encoded data removed]",
      "text/plain": [
       "<Figure size 640x480 with 1 Axes>"
      ]
     },
     "metadata": {},
     "output_type": "display_data"
    }
   ],
   "source": [
    "ax = plt.axes()\n",
    "ax.plot(deltas)\n",
    "ax.plot(errros)\n",
    "ax.plot(accuracies)\n",
    "\n",
    "ax.grid(True)\n",
    "\n",
    "ax.legend([\n",
    "    \"deltas\",\n",
    "    \"errors\",\n",
    "    \"accuracy\"\n",
    "])"
   ]
  },
  {
   "cell_type": "markdown",
   "metadata": {},
   "source": [
    "## Linear Regression with mini-batch Gradient Descent and Momentum"
   ]
  },
  {
   "cell_type": "code",
   "execution_count": 107,
   "metadata": {},
   "outputs": [],
   "source": [
    "class LinearRegressionGradientDescentMiniBatchMomentum():\n",
    "    \"\"\"\n",
    "    Logistic regression implementation (gradient descent)\n",
    "    \"\"\"\n",
    "\n",
    "    def __init__(self, d, w = None):\n",
    "        # set the dimension of the input data\n",
    "        self.d = d\n",
    "        # initialize the weights if necessary\n",
    "        if w is None:\n",
    "            self.w = np.random.rand((d + 1))\n",
    "        else:\n",
    "            self.w = w\n",
    "\n",
    "    def MSE(self, X, y):\n",
    "        # get the number of data points\n",
    "        N = X.shape[0]\n",
    "        return (1/(2*N)) * (np.sum((self.h(X) - y)**2))\n",
    "    \n",
    "    def MSE_gradient(self, X, y):\n",
    "        # get the number of data points\n",
    "        N = X.shape[0]\n",
    "        h = self.h(X)\n",
    "\n",
    "        # prepend a column of ones, \n",
    "        # we do not do it before computing h, since we do that in h() as well\n",
    "        ones = np.ones((X.shape[0], 1))\n",
    "        X = np.concatenate((ones, X), axis=1)\n",
    "        # compute the gradient\n",
    "        delta = (1/N) * ((h - y).T.dot(X))\n",
    "\n",
    "        return delta\n",
    "\n",
    "    def fit(self, X, y, eta=0.01, epochs=5, batch_size = 4, kappa = 0.9):\n",
    "        \"\"\"\n",
    "        Parameters\n",
    "        ----------\n",
    "        X : Array of shape [n_samples, n_features]\n",
    "        y : Array of shape [n_samples, 1]\n",
    "        \"\"\"\n",
    "\n",
    "        deltas = []\n",
    "        errros = []\n",
    "        accuracies = []\n",
    "\n",
    "        # gradient descent steps\n",
    "        for epoch in range(epochs):\n",
    "            mini_batches = self.create_mini_batches(X, y, batch_size)\n",
    "\n",
    "            old_update = np.zeros(self.w.shape[0])\n",
    "\n",
    "            mini_deltas = []\n",
    "\n",
    "            for mini_batch in mini_batches:\n",
    "                X_mini, y_mini = mini_batch\n",
    "\n",
    "                gradient = self.MSE_gradient(X_mini, y_mini)\n",
    "                update = eta * gradient.T\n",
    "                self.w = self.w - update - kappa * old_update\n",
    "\n",
    "                mini_deltas.append(float(np.mean(update - kappa * old_update)))\n",
    "\n",
    "                old_update = update\n",
    "\n",
    "            deltas.append(float(np.mean(mini_deltas)))\n",
    "            errros.append(self.MSE(X, y))\n",
    "            accuracies.append(self.accuracy(X, y))\n",
    "\n",
    "        return errros, deltas, accuracies\n",
    "\n",
    "    def create_mini_batches(self, X, y, batch_size):\n",
    "        mini_batches = []\n",
    "\n",
    "        # create a random permutation of the data\n",
    "        permutation =  np.random.permutation(X.shape[0])\n",
    "        X_perm = X[permutation]\n",
    "        y_perm = y[permutation]\n",
    "\n",
    "\n",
    "        n_minibatches = X.shape[0] // batch_size\n",
    "        # make sure that we get the last training instances if the data set\n",
    "        # is not evenly divisible by the batch size\n",
    "        if X.shape[0] % batch_size != 0:\n",
    "            n_minibatches += 1\n",
    "\n",
    "\n",
    "        for i in range(n_minibatches):\n",
    "            lower = i * batch_size\n",
    "            lower = min(lower, X.shape[0])\n",
    "            upper = i * batch_size + batch_size\n",
    "            upper = min(upper, X.shape[0])\n",
    "\n",
    "            X_mini = X_perm[lower:upper, ]\n",
    "            y_mini = y_perm[lower:upper]\n",
    "\n",
    "            mini_batches.append((X_mini, y_mini))\n",
    "\n",
    "        return mini_batches\n",
    "    \n",
    "    def accuracy(self, X, y):\n",
    "        y_hat = self.h(X)\n",
    "        percentage = np.mean(y_hat == y)\n",
    "        return percentage\n",
    "\n",
    "    # prediction\n",
    "    def h(self, X):\n",
    "        # prepend a column of ones\n",
    "        ones = np.ones((X.shape[0], 1))\n",
    "        X = np.concatenate((ones, X), axis=1)\n",
    "        y_hat = np.sign(X @ self.w)\n",
    "        return y_hat\n"
   ]
  },
  {
   "cell_type": "code",
   "execution_count": 108,
   "metadata": {},
   "outputs": [
    {
     "name": "stdout",
     "output_type": "stream",
     "text": [
      "Final test accuracy: 1.0\n"
     ]
    }
   ],
   "source": [
    "lr = LinearRegressionGradientDescentMiniBatchMomentum(X_train.shape[1])\n",
    "errros, deltas, accuracies = lr.fit(X_train, y_train, eta=0.01, epochs=1, batch_size=4, kappa=0.1)\n",
    "\n",
    "test_accuracy = lr.accuracy(X_test, y_test)\n",
    "print(f'Final test accuracy: {test_accuracy}')"
   ]
  },
  {
   "cell_type": "code",
   "execution_count": 109,
   "metadata": {},
   "outputs": [
    {
     "data": {
      "text/plain": [
       "<matplotlib.legend.Legend at 0x282ec347580>"
      ]
     },
     "execution_count": 109,
     "metadata": {},
     "output_type": "execute_result"
    },
    {
     "data": {
      "image/png": "[encoded data removed]",
      "text/plain": [
       "<Figure size 640x480 with 1 Axes>"
      ]
     },
     "metadata": {},
     "output_type": "display_data"
    }
   ],
   "source": [
    "plt.plot(deltas)\n",
    "plt.plot(errros)\n",
    "plt.plot(accuracies)\n",
    "\n",
    "plt.grid(True)\n",
    "\n",
    "plt.legend([\n",
    "    \"deltas\",\n",
    "    \"errors\",\n",
    "    \"accuracy\"\n",
    "])"
   ]
  },
  {
   "cell_type": "markdown",
   "metadata": {},
   "source": [
    "## Find optimal hyper-parameters"
   ]
  },
  {
   "cell_type": "code",
   "execution_count": 110,
   "metadata": {},
   "outputs": [],
   "source": [
    "etas = [0.0001, 0.001, 0.01, 0.1, 0.5, 1]\n",
    "epochs = [1, 3, 5, 10, 25]\n",
    "batch_sizes = [1, 2, 4, 8, 16, X_train.shape[0]]\n",
    "kappas = [0, 0.0001, 0.001, 0.01, 0.1, 0.5]\n",
    "\n",
    "total_combinations = len(etas) * len(epochs) * len(batch_sizes) * len(kappas)\n",
    "\n",
    "optimal_models = []\n",
    "optimal_parameters = []\n",
    "for eta in etas:\n",
    "    for epoch in epochs:\n",
    "        for batch_size in batch_sizes:\n",
    "            for kappa in kappas:\n",
    "                np.random.seed(42)\n",
    "                lr = LinearRegressionGradientDescentMiniBatchMomentum(X_train.shape[1])\n",
    "                errros, deltas, accuracies = lr.fit(X_train, y_train, eta=eta, epochs=epoch, batch_size=batch_size, kappa=kappa)\n",
    "\n",
    "                test_accuracy = lr.accuracy(X_test, y_test)\n",
    "\n",
    "                if test_accuracy == 1:\n",
    "                    optimal_models.append({\"model\": lr,\n",
    "                                            \"errors\": errros,\n",
    "                                            \"deltas\": deltas,\n",
    "                                            \"accuracies\": accuracies,\n",
    "                                            \"eta\": eta,\n",
    "                                            \"epochs\": epoch,\n",
    "                                            \"batch_size\": batch_size,\n",
    "                                            \"test_accuracy\": test_accuracy})\n",
    "                    \n",
    "                    optimal_parameters.append({\"eta\": eta,\n",
    "                                                \"epochs\": epoch,\n",
    "                                                \"batch_size\": batch_size,\n",
    "                                                \"kappa\": kappa})\n"
   ]
  },
  {
   "cell_type": "code",
   "execution_count": 111,
   "metadata": {},
   "outputs": [
    {
     "name": "stdout",
     "output_type": "stream",
     "text": [
      "535 optimal parameter combinations out of 1080.\n",
      "model: <__main__.LinearRegressionGradientDescentMiniBatchMomentum object at 0x00000282EAB3F520>\n",
      "errors: [0.06944444444444445, 0.013888888888888888, 0.013888888888888888]\n",
      "deltas: [0.0009784277884615387, -3.333e-05, 3.952596153846158e-06]\n",
      "accuracies: [0.9652777777777778, 0.9930555555555556, 0.9930555555555556]\n",
      "eta: 0.001\n",
      "epochs: 3\n",
      "batch_size: 1\n",
      "test_accuracy: 1.0\n"
     ]
    },
    {
     "data": {
      "text/plain": [
       "8"
      ]
     },
     "execution_count": 111,
     "metadata": {},
     "output_type": "execute_result"
    }
   ],
   "source": [
    "print(f'{len(optimal_models)} optimal parameter combinations out of {total_combinations}.')\n",
    "\n",
    "optimal_model = optimal_models[7]\n",
    "\n",
    "for parameter in optimal_model:\n",
    "    print(f'{parameter}: {optimal_model[parameter]}')\n",
    "len(optimal_model)"
   ]
  },
  {
   "cell_type": "code",
   "execution_count": 112,
   "metadata": {},
   "outputs": [
    {
     "data": {
      "text/html": [
       "<div>\n",
       "<style scoped>\n",
       "    .dataframe tbody tr th:only-of-type {\n",
       "        vertical-align: middle;\n",
       "    }\n",
       "\n",
       "    .dataframe tbody tr th {\n",
       "        vertical-align: top;\n",
       "    }\n",
       "\n",
       "    .dataframe thead th {\n",
       "        text-align: right;\n",
       "    }\n",
       "</style>\n",
       "<table border=\"1\" class=\"dataframe\">\n",
       "  <thead>\n",
       "    <tr style=\"text-align: right;\">\n",
       "      <th></th>\n",
       "      <th>eta</th>\n",
       "      <th>epochs</th>\n",
       "      <th>batch_size</th>\n",
       "      <th>kappa</th>\n",
       "    </tr>\n",
       "  </thead>\n",
       "  <tbody>\n",
       "    <tr>\n",
       "      <th>0</th>\n",
       "      <td>0.0001</td>\n",
       "      <td>25</td>\n",
       "      <td>1</td>\n",
       "      <td>0.0000</td>\n",
       "    </tr>\n",
       "    <tr>\n",
       "      <th>1</th>\n",
       "      <td>0.0001</td>\n",
       "      <td>25</td>\n",
       "      <td>1</td>\n",
       "      <td>0.0001</td>\n",
       "    </tr>\n",
       "    <tr>\n",
       "      <th>2</th>\n",
       "      <td>0.0001</td>\n",
       "      <td>25</td>\n",
       "      <td>1</td>\n",
       "      <td>0.0010</td>\n",
       "    </tr>\n",
       "    <tr>\n",
       "      <th>3</th>\n",
       "      <td>0.0001</td>\n",
       "      <td>25</td>\n",
       "      <td>1</td>\n",
       "      <td>0.0100</td>\n",
       "    </tr>\n",
       "    <tr>\n",
       "      <th>4</th>\n",
       "      <td>0.0001</td>\n",
       "      <td>25</td>\n",
       "      <td>1</td>\n",
       "      <td>0.1000</td>\n",
       "    </tr>\n",
       "  </tbody>\n",
       "</table>\n",
       "</div>"
      ],
      "text/plain": [
       "      eta  epochs  batch_size   kappa\n",
       "0  0.0001      25           1  0.0000\n",
       "1  0.0001      25           1  0.0001\n",
       "2  0.0001      25           1  0.0010\n",
       "3  0.0001      25           1  0.0100\n",
       "4  0.0001      25           1  0.1000"
      ]
     },
     "metadata": {},
     "output_type": "display_data"
    },
    {
     "data": {
      "text/plain": [
       "<matplotlib.legend.Legend at 0x282e90d2bc0>"
      ]
     },
     "execution_count": 112,
     "metadata": {},
     "output_type": "execute_result"
    },
    {
     "data": {
      "image/png": "[encoded data removed]",
      "text/plain": [
       "<Figure size 640x480 with 1 Axes>"
      ]
     },
     "metadata": {},
     "output_type": "display_data"
    }
   ],
   "source": [
    "import pandas as pd\n",
    "\n",
    "df = pd.DataFrame(optimal_parameters[:50])\n",
    "display(df.head())\n",
    "df[\"eta\"] = df[\"eta\"] * 100\n",
    "df[\"kappa\"] = df[\"kappa\"] * 100\n",
    "\n",
    "plt.plot(df)\n",
    "plt.ylim(top=50)\n",
    "plt.grid(True)\n",
    "\n",
    "plt.legend([\n",
    "    \"eta\",\n",
    "    \"epochs\",\n",
    "    \"batch size\",\n",
    "    \"kappa\"\n",
    "])"
   ]
  },
  {
   "cell_type": "markdown",
   "metadata": {},
   "source": [
    "# Logistis Regression"
   ]
  },
  {
   "cell_type": "code",
   "execution_count": 120,
   "metadata": {},
   "outputs": [],
   "source": [
    "class LogisticRegression():\n",
    "    \"\"\"\n",
    "    Logistic regression implementation (gradient descent)\n",
    "    \"\"\"\n",
    "\n",
    "    def __init__(self, d, w = None):\n",
    "        # set the dimension of the input data\n",
    "        self.d = d\n",
    "        # initialize the weights if necessary\n",
    "        if w is None:\n",
    "            self.w = np.random.rand((d + 1))\n",
    "        else:\n",
    "            self.w = w\n",
    "\n",
    "\n",
    "    def sigmoid(self, x):\n",
    "        return 1 / (1 + np.exp(-x))\n",
    "    \n",
    "    \n",
    "    def CE(self, X, y):\n",
    "        N = X.shape[0]\n",
    "        ones = np.ones((X.shape[0], 1))\n",
    "        X = np.concatenate((ones, X), axis=1)\n",
    "        return (1/N) * np.sum(np.log(1 + np.exp(-np.multiply(y, X @ self.w))))\n",
    "    \n",
    "    \n",
    "    def CE_gradient(self, X, y):\n",
    "        ones = np.ones((X.shape[0], 1))\n",
    "        X = np.concatenate((ones, X), axis=1)\n",
    "\n",
    "        N = X.shape[0]\n",
    "\n",
    "        gradient_E = np.zeros(self.w.shape)\n",
    "\n",
    "        for i in range(N):\n",
    "            gradient_E += y[i] * X[i, :] / (1 + np.exp(y[i] * self.w.dot(X[i, :])))\n",
    "        gradient_E /= N\n",
    "        gradient_E *= -1\n",
    "\n",
    "        return gradient_E\n",
    "\n",
    "    def fit(self, X, y, eta=0.01, epochs=5, batch_size = 4):\n",
    "        \"\"\"\n",
    "        Parameters\n",
    "        ----------\n",
    "        X : Array of shape [n_samples, n_features]\n",
    "        y : Array of shape [n_samples, 1]\n",
    "        \"\"\"\n",
    "\n",
    "        deltas = []\n",
    "        errros = []\n",
    "        accuracies = []\n",
    "\n",
    "        # gradient descent steps\n",
    "        for epoch in range(epochs):\n",
    "            # get the gradient\n",
    "            mini_batches = self.create_mini_batches(X, y, batch_size)\n",
    "\n",
    "            mini_deltas = []\n",
    "\n",
    "            for mini_batch in mini_batches:\n",
    "                X_mini, y_mini = mini_batch\n",
    "\n",
    "                delta = self.CE_gradient(X_mini, y_mini)\n",
    "\n",
    "                self.w = self.w - eta * delta.T\n",
    "\n",
    "                mini_deltas.append(float(np.mean(delta)))\n",
    "\n",
    "            deltas.append(float(np.mean(mini_deltas)))\n",
    "            errros.append(self.CE(X, y))\n",
    "            accuracies.append(self.accuracy(X, y))\n",
    "\n",
    "        return errros, deltas, accuracies\n",
    "\n",
    "\n",
    "    def create_mini_batches(self, X, y, batch_size):\n",
    "        mini_batches = []\n",
    "\n",
    "        # create a random permutation of the data\n",
    "        permutation =  np.random.permutation(X.shape[0])\n",
    "        X_perm = X[permutation]\n",
    "        y_perm = y[permutation]\n",
    "\n",
    "\n",
    "        n_minibatches = X.shape[0] // batch_size\n",
    "        # make sure that we get the last training instances if the data set\n",
    "        # is not evenly divisible by the batch size\n",
    "        if X.shape[0] % batch_size != 0:\n",
    "            n_minibatches += 1\n",
    "\n",
    "\n",
    "        for i in range(n_minibatches):\n",
    "            lower = i * batch_size\n",
    "            lower = min(lower, X.shape[0])\n",
    "            upper = i * batch_size + batch_size\n",
    "            upper = min(upper, X.shape[0])\n",
    "\n",
    "            X_mini = X_perm[lower:upper, ]\n",
    "            y_mini = y_perm[lower:upper]\n",
    "\n",
    "            mini_batches.append((X_mini, y_mini))\n",
    "\n",
    "        return mini_batches\n",
    "    \n",
    "    def accuracy(self, X, y):\n",
    "        y_hat = self.h(X)\n",
    "        y_hat = np.where(y_hat >= 0.5, 1, -1)\n",
    "        percentage = np.mean(y_hat == y)\n",
    "        return percentage\n",
    "    \n",
    "    def h(self, X):\n",
    "        # prepend a column of ones\n",
    "        ones = np.ones((X.shape[0], 1))\n",
    "        X = np.concatenate((ones, X), axis=1)\n",
    "        y_hat = self.sigmoid(X @ self.w)\n",
    "        return y_hat\n",
    "    "
   ]
  },
  {
   "cell_type": "code",
   "execution_count": 121,
   "metadata": {},
   "outputs": [
    {
     "name": "stdout",
     "output_type": "stream",
     "text": [
      "[-1 -1 -1 -1 -1  1 -1  1 -1 -1  1  1  1  1 -1  1  1 -1  1 -1 -1 -1  1  1\n",
      " -1 -1  1 -1 -1 -1  1 -1 -1  1  1 -1  1  1 -1  1  1  1  1 -1  1  1 -1  1\n",
      "  1  1 -1 -1  1  1  1  1  1 -1 -1 -1 -1 -1  1 -1  1 -1  1  1  1  1 -1 -1\n",
      " -1  1 -1  1  1  1 -1  1 -1 -1 -1 -1  1  1 -1 -1 -1 -1 -1  1 -1  1  1  1\n",
      "  1  1 -1  1  1 -1 -1  1 -1 -1 -1  1 -1  1 -1 -1  1  1  1 -1  1  1  1  1\n",
      "  1  1 -1 -1 -1  1 -1  1 -1  1  1  1 -1  1  1  1  1 -1  1 -1  1  1  1 -1\n",
      "  1 -1  1 -1 -1  1  1  1 -1  1 -1  1 -1  1 -1  1  1  1 -1 -1 -1  1  1  1\n",
      "  1 -1 -1 -1  1 -1 -1  1 -1 -1 -1 -1 -1  1  1  1  1  1  1  1 -1  1  1  1\n",
      "  1 -1  1 -1  1 -1 -1  1 -1 -1  1 -1  1  1  1 -1  1 -1  1 -1  1  1  1 -1\n",
      "  1 -1 -1  1  1 -1  1 -1  1  1  1 -1  1 -1  1  1  1 -1 -1 -1  1 -1  1 -1\n",
      " -1 -1  1 -1 -1 -1 -1  1 -1 -1 -1 -1 -1 -1  1  1  1 -1 -1  1 -1  1 -1  1\n",
      "  1 -1 -1  1 -1 -1  1 -1  1 -1  1  1  1  1  1 -1 -1  1 -1  1 -1  1  1  1]\n",
      "[ 1 -1 -1  1 -1 -1 -1  1 -1  1 -1  1  1  1 -1  1  1 -1  1  1 -1  1 -1 -1\n",
      "  1 -1 -1  1 -1  1 -1  1  1  1  1  1  1 -1 -1 -1  1 -1  1 -1  1  1  1  1\n",
      "  1  1  1 -1 -1 -1 -1 -1  1 -1  1  1 -1  1 -1 -1  1 -1  1  1 -1 -1  1  1]\n",
      "Final test accuracy: 0.9722222222222222\n"
     ]
    },
    {
     "data": {
      "text/plain": [
       "0.11221675011481369"
      ]
     },
     "execution_count": 121,
     "metadata": {},
     "output_type": "execute_result"
    }
   ],
   "source": [
    "lr = LogisticRegression(X_train.shape[1])\n",
    "errros, deltas, accuracies = lr.fit(X_train, y_train, eta=0.01, epochs=1, batch_size=4)\n",
    "\n",
    "test_accuracy = lr.accuracy(X_test, y_test)\n",
    "print(f'Final test accuracy: {test_accuracy}')\n",
    "errros[-1]"
   ]
  },
  {
   "cell_type": "code",
   "execution_count": 122,
   "metadata": {},
   "outputs": [
    {
     "data": {
      "text/plain": [
       "<matplotlib.legend.Legend at 0x282e91ec430>"
      ]
     },
     "execution_count": 122,
     "metadata": {},
     "output_type": "execute_result"
    },
    {
     "data": {
      "image/png": "[encoded data removed]",
      "text/plain": [
       "<Figure size 640x480 with 1 Axes>"
      ]
     },
     "metadata": {},
     "output_type": "display_data"
    }
   ],
   "source": [
    "plt.plot(deltas)\n",
    "plt.plot(errros)\n",
    "plt.plot(accuracies)\n",
    "\n",
    "plt.grid(True)\n",
    "\n",
    "plt.legend([\n",
    "    \"deltas\",\n",
    "    \"errors\",\n",
    "    \"accuracy\"\n",
    "])"
   ]
  },
  {
   "cell_type": "markdown",
   "metadata": {},
   "source": [
    "## Find optimal hyper-parameters"
   ]
  },
  {
   "cell_type": "code",
   "execution_count": 60,
   "metadata": {},
   "outputs": [
    {
     "name": "stderr",
     "output_type": "stream",
     "text": [
      "/var/folders/dl/ql567y8n0gnbkgyw5xljmmkw0000gn/T/ipykernel_4963/1072708438.py:36: RuntimeWarning: overflow encountered in exp\n",
      "  gradient_E += y[i] * X[i, :] / (1 + np.exp(y[i] * self.w.dot(X[i, :])))\n",
      "/var/folders/dl/ql567y8n0gnbkgyw5xljmmkw0000gn/T/ipykernel_4963/1072708438.py:17: RuntimeWarning: overflow encountered in exp\n",
      "  return 1 / (1 + np.exp(-x))\n",
      "/var/folders/dl/ql567y8n0gnbkgyw5xljmmkw0000gn/T/ipykernel_4963/1072708438.py:24: RuntimeWarning: overflow encountered in exp\n",
      "  return (1/N) * np.sum(np.log(1 + np.exp(-np.multiply(y, X @ self.w))))\n"
     ]
    }
   ],
   "source": [
    "etas = [0.0001, 0.001, 0.01, 0.1, 0.5, 1]\n",
    "epochs = [1, 3, 5, 10, 25]\n",
    "batch_sizes = [1, 2, 4, 8, 16, X_train.shape[0]]\n",
    "\n",
    "total_combinations = len(etas) * len(epochs) * len(batch_sizes)\n",
    "\n",
    "optimal_models = []\n",
    "optimal_parameters = []\n",
    "for eta in etas:\n",
    "    for epoch in epochs:\n",
    "        for batch_size in batch_sizes:\n",
    "                np.random.seed(42)\n",
    "                lr = LogisticRegression(X_train.shape[1])\n",
    "                errros, deltas, accuracies = lr.fit(X_train, y_train, eta=eta, epochs=epoch, batch_size=batch_size)\n",
    "\n",
    "                test_accuracy = lr.accuracy(X_test, y_test)\n",
    "\n",
    "                if test_accuracy > 0.99:\n",
    "                    optimal_models.append({\"model\": lr,\n",
    "                                            \"errors\": errros,\n",
    "                                            \"deltas\": deltas,\n",
    "                                            \"accuracies\": accuracies,\n",
    "                                            \"eta\": eta,\n",
    "                                            \"epochs\": epoch,\n",
    "                                            \"batch_size\": batch_size,\n",
    "                                            \"test_accuracy\": test_accuracy})\n",
    "                    \n",
    "                    optimal_parameters.append({\"eta\": eta,\n",
    "                                                \"epochs\": epoch,\n",
    "                                                \"batch_size\": batch_size})\n"
   ]
  },
  {
   "cell_type": "code",
   "execution_count": 61,
   "metadata": {},
   "outputs": [
    {
     "name": "stdout",
     "output_type": "stream",
     "text": [
      "79 optimal parameter combinations out of 180.\n",
      "model: <__main__.LogisticRegression object at 0x294514c70>\n",
      "errors: [0.20908554997384146, 0.074707882407863, 0.04618963176342163, 0.03419868624171547, 0.02696773171215769, 0.02298200142985804, 0.014803468239654217, 0.010901148587154377, 0.007569278398879734, 0.006523054754905256, 0.004778477337238985, 0.0038805886393877935, 0.0031243991586599063, 0.0028154821701654596, 0.0023985358008336973, 0.002244850530973768, 0.001973331577805829, 0.0018380172767798898, 0.001670252581829436, 0.0015645936820873427, 0.0014679787684988056, 0.001386222331798271, 0.0012932352052133893, 0.0012251492197803994, 0.0011634331655825533]\n",
      "deltas: [0.9510237698480855, -0.007200177913945116, 0.00026204534400362585, -0.002669387541837356, 0.011647831855884673, 0.0010344110517137542, -0.00963465184043879, -0.0055867690040836936, 0.001624664365949696, 0.005408407228698554, -0.008567832087863443, 0.0010390572535465702, 0.0013239263245516655, 0.004170232778258388, -0.002801009438087084, 0.0026542822544627213, -0.002554504809547316, 0.0020587494635661294, -0.0008563828331458047, -0.0008315535050434045, 0.0015679946733752291, 0.00029765730641504666, -0.000943544454439777, -7.970307360618174e-05, 0.0006564381863679221]\n",
      "accuracies: [0.9444444444444444, 0.9756944444444444, 0.9895833333333334, 0.9861111111111112, 0.9965277777777778, 0.9930555555555556, 0.9965277777777778, 0.9930555555555556, 0.9965277777777778, 0.9965277777777778, 1.0, 1.0, 1.0, 1.0, 1.0, 1.0, 1.0, 1.0, 1.0, 1.0, 1.0, 1.0, 1.0, 1.0, 1.0]\n",
      "eta: 0.001\n",
      "epochs: 25\n",
      "batch_size: 1\n",
      "test_accuracy: 1.0\n"
     ]
    }
   ],
   "source": [
    "print(f'{len(optimal_models)} optimal parameter combinations out of {total_combinations}.')\n",
    "\n",
    "optimal_model = optimal_models[3]\n",
    "\n",
    "for parameter in optimal_model:\n",
    "    print(f'{parameter}: {optimal_model[parameter]}')"
   ]
  },
  {
   "cell_type": "code",
   "execution_count": 62,
   "metadata": {},
   "outputs": [
    {
     "data": {
      "text/html": [
       "<div>\n",
       "<style scoped>\n",
       "    .dataframe tbody tr th:only-of-type {\n",
       "        vertical-align: middle;\n",
       "    }\n",
       "\n",
       "    .dataframe tbody tr th {\n",
       "        vertical-align: top;\n",
       "    }\n",
       "\n",
       "    .dataframe thead th {\n",
       "        text-align: right;\n",
       "    }\n",
       "</style>\n",
       "<table border=\"1\" class=\"dataframe\">\n",
       "  <thead>\n",
       "    <tr style=\"text-align: right;\">\n",
       "      <th></th>\n",
       "      <th>eta</th>\n",
       "      <th>epochs</th>\n",
       "      <th>batch_size</th>\n",
       "    </tr>\n",
       "  </thead>\n",
       "  <tbody>\n",
       "    <tr>\n",
       "      <th>0</th>\n",
       "      <td>0.001</td>\n",
       "      <td>5</td>\n",
       "      <td>1</td>\n",
       "    </tr>\n",
       "    <tr>\n",
       "      <th>1</th>\n",
       "      <td>0.001</td>\n",
       "      <td>10</td>\n",
       "      <td>1</td>\n",
       "    </tr>\n",
       "    <tr>\n",
       "      <th>2</th>\n",
       "      <td>0.001</td>\n",
       "      <td>10</td>\n",
       "      <td>2</td>\n",
       "    </tr>\n",
       "    <tr>\n",
       "      <th>3</th>\n",
       "      <td>0.001</td>\n",
       "      <td>25</td>\n",
       "      <td>1</td>\n",
       "    </tr>\n",
       "    <tr>\n",
       "      <th>4</th>\n",
       "      <td>0.001</td>\n",
       "      <td>25</td>\n",
       "      <td>2</td>\n",
       "    </tr>\n",
       "  </tbody>\n",
       "</table>\n",
       "</div>"
      ],
      "text/plain": [
       "     eta  epochs  batch_size\n",
       "0  0.001       5           1\n",
       "1  0.001      10           1\n",
       "2  0.001      10           2\n",
       "3  0.001      25           1\n",
       "4  0.001      25           2"
      ]
     },
     "metadata": {},
     "output_type": "display_data"
    },
    {
     "data": {
      "text/plain": [
       "<matplotlib.legend.Legend at 0x293e2c4f0>"
      ]
     },
     "execution_count": 62,
     "metadata": {},
     "output_type": "execute_result"
    },
    {
     "data": {
      "image/png": "[encoded data removed]",
      "text/plain": [
       "<Figure size 640x480 with 1 Axes>"
      ]
     },
     "metadata": {},
     "output_type": "display_data"
    }
   ],
   "source": [
    "df = pd.DataFrame(optimal_parameters)\n",
    "display(df.head())\n",
    "df[\"eta\"] = df[\"eta\"] * 100\n",
    "\n",
    "plt.plot(df)\n",
    "plt.ylim(top=105)\n",
    "plt.grid(True)\n",
    "\n",
    "plt.legend([\n",
    "    \"eta\",\n",
    "    \"epochs\",\n",
    "    \"batch size\"\n",
    "])"
   ]
  }
 ],
 "metadata": {
  "kernelspec": {
   "display_name": "Python 3 (ipykernel)",
   "language": "python",
   "name": "python3"
  },
  "language_info": {
   "codemirror_mode": {
    "name": "ipython",
    "version": 3
   },
   "file_extension": ".py",
   "mimetype": "text/x-python",
   "name": "python",
   "nbconvert_exporter": "python",
   "pygments_lexer": "ipython3",
   "version": "3.10.5"
  },
  "vscode": {
   "interpreter": {
    "hash": "ad2bdc8ecc057115af97d19610ffacc2b4e99fae6737bb82f5d7fb13d2f2c186"
   }
  }
 },
 "nbformat": 4,
 "nbformat_minor": 4
}
